{
 "cells": [
  {
   "cell_type": "code",
   "execution_count": 1,
   "id": "0b6bbbb9-4131-488b-9b2b-837a8e817ab6",
   "metadata": {},
   "outputs": [
    {
     "data": {
      "text/plain": [
       "['expense_categorizer.pkl']"
      ]
     },
     "execution_count": 1,
     "metadata": {},
     "output_type": "execute_result"
    }
   ],
   "source": [
    "import pandas as pd\n",
    "from sklearn.model_selection import train_test_split\n",
    "from sklearn.feature_extraction.text import TfidfVectorizer\n",
    "from sklearn.naive_bayes import MultinomialNB\n",
    "from sklearn.pipeline import make_pipeline\n",
    "import joblib\n",
    "\n",
    "# Load your data\n",
    "df = pd.read_csv(\"expense.csv\")\n",
    "\n",
    "# Split into features and target\n",
    "X = df[\"Expense\"]\n",
    "y = df[\"Category\"]\n",
    "\n",
    "# Create a pipeline: TF-IDF + Naive Bayes\n",
    "model = make_pipeline(TfidfVectorizer(), MultinomialNB())\n",
    "\n",
    "# Train the model\n",
    "model.fit(X, y)\n",
    "\n",
    "# Save model for later use\n",
    "joblib.dump(model, \"expense_categorizer.pkl\")"
   ]
  },
  {
   "cell_type": "code",
   "execution_count": 2,
   "id": "d0b592d3-82b4-4fa0-9d9d-c93704456d73",
   "metadata": {},
   "outputs": [
    {
     "name": "stdin",
     "output_type": "stream",
     "text": [
      "Enter Title Auto Rixa\n",
      "Enter Title \n",
      "Enter Title  \n"
     ]
    },
    {
     "name": "stdout",
     "output_type": "stream",
     "text": [
      "Auto Rixa -> Taxi\n",
      " -> Groceries\n"
     ]
    }
   ],
   "source": [
    "# Load the saved model\n",
    "model = joblib.load(\"expense_categorizer.pkl\")\n",
    "\n",
    "# New entries\n",
    "# new_data = [\"Zomato Pizza\", \"Uber School\", \"AutoRixa\", \"McDonald's\", \"Subway Sandwich\"]\n",
    "new_data = []\n",
    "while True:\n",
    "    data = input(\"Enter Title\")\n",
    "    if data == ' ':\n",
    "        break\n",
    "    new_data.append(data)\n",
    "    \n",
    "# Predict\n",
    "predicted_categories = model.predict(new_data)\n",
    "\n",
    "# View results\n",
    "for title, category in zip(new_data, predicted_categories):\n",
    "    print(f\"{title} -> {category}\")\n"
   ]
  },
  {
   "cell_type": "code",
   "execution_count": null,
   "id": "08ad2f1d-f6aa-4974-b001-dce008386535",
   "metadata": {},
   "outputs": [],
   "source": []
  },
  {
   "cell_type": "code",
   "execution_count": null,
   "id": "f43a0377-57ba-4c29-891f-e1895ba9476c",
   "metadata": {},
   "outputs": [],
   "source": []
  },
  {
   "cell_type": "code",
   "execution_count": null,
   "id": "9d17a4fa-9615-4b09-8873-6b94633bb235",
   "metadata": {},
   "outputs": [],
   "source": []
  },
  {
   "cell_type": "markdown",
   "id": "600562d1-7691-49be-8465-2f5770ae6916",
   "metadata": {},
   "source": [
    "# Components of This Pipeline:\n",
    "## TfidfVectorizer()\n",
    "\n",
    "- Converts text (like \"Zomato Pizza\") into numerical features.\n",
    "- It uses TF-IDF (Term Frequency-Inverse Document Frequency), which gives more importance to rare and meaningful words.\n",
    "\n",
    "- Example:\n",
    "\"Zomato Pizza\" becomes a vector like [0, 0.5, 0, 0.3, ...]\n",
    "\n",
    "## MultinomialNB()\n",
    "\n",
    "- This is the Naive Bayes classifier, a simple but effective algorithm for text classification.\n",
    "- It learns which words are associated with which categories (e.g., \"pizza\" → \"Food\", \"uber\" → \"Taxi\")."
   ]
  },
  {
   "cell_type": "code",
   "execution_count": null,
   "id": "23746e3f-54bf-4018-94f9-d5b44e54df7f",
   "metadata": {},
   "outputs": [],
   "source": []
  },
  {
   "cell_type": "code",
   "execution_count": null,
   "id": "5f580317-bb8b-48f0-a728-43399095e354",
   "metadata": {},
   "outputs": [],
   "source": []
  },
  {
   "cell_type": "code",
   "execution_count": null,
   "id": "4c22c1df-55b4-46bb-813a-109f24df35da",
   "metadata": {},
   "outputs": [],
   "source": []
  }
 ],
 "metadata": {
  "kernelspec": {
   "display_name": "Python 3 (ipykernel)",
   "language": "python",
   "name": "python3"
  },
  "language_info": {
   "codemirror_mode": {
    "name": "ipython",
    "version": 3
   },
   "file_extension": ".py",
   "mimetype": "text/x-python",
   "name": "python",
   "nbconvert_exporter": "python",
   "pygments_lexer": "ipython3",
   "version": "3.13.2"
  }
 },
 "nbformat": 4,
 "nbformat_minor": 5
}
