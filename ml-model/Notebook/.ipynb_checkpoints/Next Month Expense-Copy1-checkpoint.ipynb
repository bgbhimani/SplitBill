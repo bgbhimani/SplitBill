{
 "cells": [
  {
   "cell_type": "code",
   "execution_count": 1,
   "id": "ed57ba82-039a-4eed-b2b8-8646f06943ec",
   "metadata": {},
   "outputs": [
    {
     "name": "stderr",
     "output_type": "stream",
     "text": [
      "C:\\Users\\Bhimani\\AppData\\Local\\Programs\\Python\\Python313\\Lib\\site-packages\\tqdm\\auto.py:21: TqdmWarning: IProgress not found. Please update jupyter and ipywidgets. See https://ipywidgets.readthedocs.io/en/stable/user_install.html\n",
      "  from .autonotebook import tqdm as notebook_tqdm\n",
      "00:14:51 - cmdstanpy - INFO - Chain [1] start processing\n",
      "00:14:51 - cmdstanpy - INFO - Chain [1] done processing\n"
     ]
    },
    {
     "name": "stdout",
     "output_type": "stream",
     "text": [
      "Prophet model saved as 'prophet_expense_forecaster.pkl'\n"
     ]
    }
   ],
   "source": [
    "import pandas as pd\n",
    "from prophet import Prophet\n",
    "import joblib # Import joblib for saving the model\n",
    "\n",
    "# Load data\n",
    "df = pd.read_csv('expense2.csv')\n",
    "\n",
    "# Data preprocessing\n",
    "df['Date'] = pd.to_datetime(df['Date'], format='%d-%m-%Y')\n",
    "df = df[df['Cr_Dr'] != 'Credit'] # Assuming 'Cr_Dr' column exists and you want to filter credits\n",
    "\n",
    "# Prepare data for Prophet\n",
    "data = df[['Date', 'Amount']].rename(columns={'Date': 'ds', 'Amount': 'y'})\n",
    "\n",
    "# Initialize and train the Prophet model\n",
    "m = Prophet()\n",
    "model = m.fit(data)\n",
    "\n",
    "# Save the trained model\n",
    "joblib.dump(model, 'prophet_expense_forecaster.pkl')\n",
    "print(\"Prophet model saved as 'prophet_expense_forecaster.pkl'\")"
   ]
  },
  {
   "cell_type": "code",
   "execution_count": null,
   "id": "03868315-5b89-4115-a74f-d995586cc9b2",
   "metadata": {},
   "outputs": [],
   "source": [
    "# You can keep the forecasting and plotting parts for your local analysis\n",
    "# future = m.make_future_dataframe(periods=30,freq='D')\n",
    "# forecast = m.predict(future)\n",
    "# print(forecast['yhat'].sum())\n",
    "# print(df['Amount'].sum())\n",
    "\n",
    "# from prophet.plot import plot_plotly, plot_components_plotly\n",
    "# import plotly.graph_objects as go\n",
    "# fig = plot_plotly(m,forecast)\n",
    "# fig.show()\n",
    "# plot_components_plotly(m,forecast)\n",
    "\n",
    "# next_week = forecast.tail(30).head(7)[[\"ds\", \"yhat\"]]\n",
    "# next_month = forecast.tail(60)[[\"ds\", \"yhat\"]]\n",
    "\n",
    "# print(\"📅 Next Week Forecast:\")\n",
    "# print(f\"{next_week['yhat'].sum():.2f}\",\"₹/-\")\n",
    "\n",
    "# print(\"\\n📅 Next Month Forecast:\")\n",
    "# print(f'{next_month['yhat'].sum():.2f}',\"₹/-\")"
   ]
  }
 ],
 "metadata": {
  "kernelspec": {
   "display_name": "Python 3 (ipykernel)",
   "language": "python",
   "name": "python3"
  },
  "language_info": {
   "codemirror_mode": {
    "name": "ipython",
    "version": 3
   },
   "file_extension": ".py",
   "mimetype": "text/x-python",
   "name": "python",
   "nbconvert_exporter": "python",
   "pygments_lexer": "ipython3",
   "version": "3.13.2"
  }
 },
 "nbformat": 4,
 "nbformat_minor": 5
}
